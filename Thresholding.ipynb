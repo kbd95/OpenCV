{
 "cells": [
  {
   "cell_type": "markdown",
   "id": "6556d0e6",
   "metadata": {},
   "source": [
    "### Simple Thresholding"
   ]
  },
  {
   "cell_type": "markdown",
   "id": "05c9878e",
   "metadata": {},
   "source": [
    "If pixel value is greater than a threshold value, it is assigned one value (may be white), else it is assigned another value (may be black)."
   ]
  },
  {
   "cell_type": "markdown",
   "id": "bf922644",
   "metadata": {},
   "source": [
    "OpenCV provides different styles of thresholding and it is decided by the fourth parameter of the function. Different types are:\n",
    "\n",
    "- cv2.THRESH_BINARY\n",
    "- cv2.THRESH_BINARY_INV\n",
    "- cv2.THRESH_TRUNC\n",
    "- cv2.THRESH_TOZERO\n",
    "- cv2.THRESH_TOZERO_INV"
   ]
  },
  {
   "cell_type": "code",
   "execution_count": null,
   "id": "6909f050",
   "metadata": {},
   "outputs": [],
   "source": [
    "import cv2\n",
    "import numpy as np\n",
    "\n",
    "# Load our image as grayscale\n",
    "image = cv2.imread(\"img/gradient.jpg\",0)\n",
    "cv2.imshow(\"Original Image\",image)\n",
    "\n",
    "# Values below 127 goes to 0 (black) everything goes to 255 (white))\n",
    "ret,thres1 = cv2.threshold(image,127,255,cv2.THRESH_BINARY)\n",
    "cv2.imshow(\"1 threshold Binary\", thres1)\n",
    "\n",
    "# values below 127 go to 255 and values above 127\n",
    "ret,thres2 = cv2.threshold(image,127,255,cv2.THRESH_BINARY_INV)\n",
    "cv2.imshow(\"1 Threshold Binary Inverse\",thres2)\n",
    "\n",
    "cv2.waitKey(0) \n",
    "cv2.destroyAllWindows()"
   ]
  },
  {
   "cell_type": "code",
   "execution_count": null,
   "id": "0d894c36",
   "metadata": {},
   "outputs": [],
   "source": [
    "ret,thres2"
   ]
  },
  {
   "cell_type": "code",
   "execution_count": null,
   "id": "b6dd13c3",
   "metadata": {},
   "outputs": [],
   "source": [
    "import cv2\n",
    "import numpy as np\n",
    "\n",
    "# Load our image as greyscale\n",
    "image = cv2.imread(\"img/old.jpg\",0)\n",
    "cv2.imshow(\"Original\",image)\n",
    "\n",
    "# Values below 127 goes to 0 (black) everythuing above goes to 255(white))\n",
    "ret,thres1 = cv2.threshold(image,127,255,cv2.THRESH_BINARY)\n",
    "cv2.imshow(\"1 Threshold Binary\",thres1)\n",
    "\n",
    "# # Values below 127 go to 255 and values above 127 go to 0 (reverse of above)\n",
    "ret,thres2 = cv2.threshold(image,127,255,cv2.THRESH_BINARY_INV)\n",
    "cv2.imshow(\"2, Threshold Binary Inverse\", thres2)\n",
    "\n",
    "cv2.waitKey(0)\n",
    "cv2.destroyAllWindows()"
   ]
  },
  {
   "cell_type": "markdown",
   "id": "dacd4427",
   "metadata": {},
   "source": [
    "### Adaptive Thresholding"
   ]
  },
  {
   "cell_type": "markdown",
   "id": "fd49283f",
   "metadata": {},
   "source": [
    "In this, the algorithm calculate the threshold for a small regions of the image. So we get different thresholds for different regions of the same image and it gives us better results for images with varying illumination."
   ]
  },
  {
   "cell_type": "markdown",
   "id": "dc3a230f",
   "metadata": {},
   "source": [
    "It has three ‘special’ input params and only one output argument."
   ]
  },
  {
   "cell_type": "markdown",
   "id": "06039a40",
   "metadata": {},
   "source": [
    "#### Adaptive Method - It decides how thresholding value is calculated."
   ]
  },
  {
   "cell_type": "markdown",
   "id": "37da3623",
   "metadata": {},
   "source": [
    "cv2.ADAPTIVE_THRESH_MEAN_C : threshold value is the mean of neighbourhood area.\n",
    "\n",
    "cv2.ADAPTIVE_THRESH_GAUSSIAN_C : threshold value is the weighted sum of neighbourhood values where weights are a gaussian window."
   ]
  },
  {
   "cell_type": "markdown",
   "id": "cf02dd5a",
   "metadata": {},
   "source": [
    "#### Block Size -\n",
    "It decides the size of neighbourhood area."
   ]
  },
  {
   "cell_type": "markdown",
   "id": "2e6c547e",
   "metadata": {},
   "source": [
    "#### C -\n",
    "It is just a constant which is subtracted from the mean or weighted mean calculated.\n",
    "\n"
   ]
  },
  {
   "cell_type": "code",
   "execution_count": null,
   "id": "5bd45e91",
   "metadata": {},
   "outputs": [],
   "source": [
    "import cv2\n",
    "import numpy as np\n",
    "from matplotlib import pyplot as plt\n",
    "\n",
    "img = cv2.imread(\"img/old.jpg\",0)\n",
    "img = cv2.medianBlur(img,5)\n",
    "\n",
    "ret,th1 = cv2.threshold(img,127,255,cv2.THRESH_BINARY)\n",
    "th2 = cv2.adaptiveThreshold(img,255,cv2.ADAPTIVE_THRESH_MEAN_C,\\\n",
    "                           cv2.THRESH_BINARY,11,2)\n",
    "th3 = cv2.adaptiveThreshold(img,255,cv2.ADAPTIVE_THRESH_GAUSSIAN_C,\\\n",
    "                           cv2.THRESH_BINARY,11,2)\n",
    "\n",
    "titles = [\"Original Image\",\"Global Thresholding (v=127)\",\"Adaptive Mean Thresholding\",\"Adaptive Gaussian Thresholding\"]\n",
    "images = [img,th1,th2,th3]\n",
    "\n",
    "for i in range(4):\n",
    "    plt.subplot(2,2,i+1),plt.imshow(images[i],\"gray\")\n",
    "    plt.title(titles[i])\n",
    "    plt.xticks([]),plt.yticks([])\n",
    "    \n",
    "plt.show()    "
   ]
  },
  {
   "cell_type": "code",
   "execution_count": null,
   "id": "eed74d19",
   "metadata": {},
   "outputs": [],
   "source": [
    "#cv2.imshow(\"1 Threshold Binary\",th3)\n",
    "#cv2.waitKey(0)\n",
    "#cv2.destroyAllWindows()"
   ]
  },
  {
   "cell_type": "markdown",
   "id": "d0bbee17",
   "metadata": {},
   "source": [
    "### Otsu's Binarization"
   ]
  },
  {
   "cell_type": "markdown",
   "id": "bfe1b8ed",
   "metadata": {},
   "source": [
    " it automatically calculates a threshold value from image histogram for a bimodal image."
   ]
  },
  {
   "cell_type": "code",
   "execution_count": null,
   "id": "42062910",
   "metadata": {},
   "outputs": [],
   "source": [
    "import cv2\n",
    "import numpy as np\n",
    "\n",
    "# Load our new image\n",
    "image = cv2.imread(\"img/old.jpg\",0)\n",
    "\n",
    "cv2.imshow('Original', image)\n",
    "cv2.waitKey(0) \n",
    "\n",
    "# Values below 127 goes to 0 (black, everything above goes to 255 (white)\n",
    "ret,thresh1 = cv2.threshold(image, 127, 255, cv2.THRESH_BINARY)\n",
    "cv2.imshow('Threshold Binary', thresh1)\n",
    "cv2.waitKey(0) \n",
    "\n",
    "#  removes noise from blur image\n",
    "image = cv2.GaussianBlur(image, (3, 3), 0)\n",
    "\n",
    "# Using adaptiveThreshold\n",
    "thresh = cv2.adaptiveThreshold(image, 255, cv2.ADAPTIVE_THRESH_MEAN_C, \n",
    "                               cv2.THRESH_BINARY, 3, 5) \n",
    "cv2.imshow(\"Adaptive Mean Thresholding\", thresh) \n",
    "cv2.waitKey(0) \n",
    "\n",
    "_, th2 = cv2.threshold(image, 0, 255, cv2.THRESH_BINARY + cv2.THRESH_OTSU)\n",
    "cv2.imshow(\"Otsu's Thresholding\", th2) \n",
    "cv2.waitKey(0) \n",
    "\n",
    "# Otsu's thresholding after Gaussian filtering\n",
    "blur = cv2.GaussianBlur(image, (5,5), 0)\n",
    "_, th3 = cv2.threshold(blur, 0, 255, cv2.THRESH_BINARY + cv2.THRESH_OTSU)\n",
    "cv2.imshow(\"Guassian Otsu's Thresholding\", th3) \n",
    "cv2.waitKey(0) \n",
    "\n",
    "cv2.destroyAllWindows()"
   ]
  }
 ],
 "metadata": {
  "kernelspec": {
   "display_name": "Python 3 (ipykernel)",
   "language": "python",
   "name": "python3"
  },
  "language_info": {
   "codemirror_mode": {
    "name": "ipython",
    "version": 3
   },
   "file_extension": ".py",
   "mimetype": "text/x-python",
   "name": "python",
   "nbconvert_exporter": "python",
   "pygments_lexer": "ipython3",
   "version": "3.7.0"
  }
 },
 "nbformat": 4,
 "nbformat_minor": 5
}
