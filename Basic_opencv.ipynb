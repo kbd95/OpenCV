{
 "cells": [
  {
   "cell_type": "markdown",
   "id": "db75bd7e",
   "metadata": {},
   "source": [
    "# Basic Opencv"
   ]
  },
  {
   "cell_type": "code",
   "execution_count": null,
   "id": "31035ed5",
   "metadata": {},
   "outputs": [],
   "source": [
    "import cv2\n",
    "import numpy as np"
   ]
  },
  {
   "cell_type": "code",
   "execution_count": null,
   "id": "1ca44c95",
   "metadata": {},
   "outputs": [],
   "source": [
    "# Loading color image in grayscale\n",
    "img1 = cv2.imread(\"img/beach.jpg\",0)\n",
    "\n",
    "# Loading an color image in rgb\n",
    "img2 = cv2.imread(\"img/beach.jpg\",1)\n",
    "\n",
    "# Loading an color image in rgb\n",
    "img3 = cv2.imread(\"img/beach.jpg\",-1)"
   ]
  },
  {
   "cell_type": "markdown",
   "id": "23332a5e",
   "metadata": {},
   "source": [
    "### Displaying an image"
   ]
  },
  {
   "cell_type": "code",
   "execution_count": null,
   "id": "b01e72fd",
   "metadata": {},
   "outputs": [],
   "source": [
    "cv2.imshow(\"Grayscale image\",img1)\n",
    "#cv2.imshow(\"RGB image\",img2)\n",
    "cv2.imshow(\"RGB image\",img3)\n",
    "cv2.waitKey(0)\n",
    "cv2.destroyAllWindows()"
   ]
  },
  {
   "cell_type": "code",
   "execution_count": null,
   "id": "7236956a",
   "metadata": {},
   "outputs": [],
   "source": [
    "cv2.namedWindow(\"image\",cv2.WINDOW_NORMAL)\n",
    "cv2.imshow(\"image\",img1)\n",
    "cv2.waitKey(0)\n",
    "cv2.destroyAllWindows()"
   ]
  },
  {
   "cell_type": "markdown",
   "id": "64c4f7e6",
   "metadata": {},
   "source": [
    "### Writting or Saving an image"
   ]
  },
  {
   "cell_type": "code",
   "execution_count": null,
   "id": "20b51981",
   "metadata": {},
   "outputs": [],
   "source": [
    "cv2.imwrite(\"Nature_scene.png\",img1)"
   ]
  },
  {
   "cell_type": "markdown",
   "id": "1bc78086",
   "metadata": {},
   "source": [
    "### Using Matplotlib"
   ]
  },
  {
   "cell_type": "code",
   "execution_count": null,
   "id": "71594069",
   "metadata": {},
   "outputs": [],
   "source": [
    "import numpy as np\n",
    "import cv2\n",
    "from matplotlib import pyplot as plt\n",
    "\n",
    "img = cv2.imread(\"img/beach.jpg\",1)\n",
    "plt.imshow(img,cmap=\"gray\",interpolation=\"bicubic\")\n",
    "plt.xticks([]), plt.yticks([])\n",
    "plt.show()"
   ]
  },
  {
   "cell_type": "markdown",
   "id": "d81fef9e",
   "metadata": {},
   "source": [
    "### Drawing line"
   ]
  },
  {
   "cell_type": "code",
   "execution_count": 1,
   "id": "4f151eb6",
   "metadata": {},
   "outputs": [],
   "source": [
    "import cv2\n",
    "import numpy as np\n",
    "\n",
    "# Create a black image\n",
    "img = np.zeros((512,512,3),np.uint8)\n",
    "\n",
    "# Draw a diagonal blue line with thickness of 5 px\n",
    "# cv2.line(image,starting cordinates,ending cordinates, color, thickness)\n",
    "img = cv2.line(img,(0,0),(200,200),(0,255,0),5)\n",
    "cv2.imshow(\"Drawing\",img)\n",
    "cv2.waitKey(0)\n",
    "cv2.destroyAllWindows()"
   ]
  },
  {
   "cell_type": "markdown",
   "id": "25d81e7c",
   "metadata": {},
   "source": [
    "### Drawing Rectangle"
   ]
  },
  {
   "cell_type": "code",
   "execution_count": 2,
   "id": "d7285fdc",
   "metadata": {},
   "outputs": [],
   "source": [
    "# cv2.rectangle(image,starting vertex,opposite vertex,color,thickness)\n",
    "img = cv2.rectangle(img,(300,100),(510,128),(0,255,0),3)\n",
    "cv2.imshow(\"Line\",img)\n",
    "cv2.waitKey(0)\n",
    "cv2.destroyAllWindows()\n",
    "\n"
   ]
  },
  {
   "cell_type": "markdown",
   "id": "389d8e73",
   "metadata": {},
   "source": [
    "### Drawing a circle"
   ]
  },
  {
   "cell_type": "code",
   "execution_count": 3,
   "id": "b9884e7e",
   "metadata": {},
   "outputs": [],
   "source": [
    "#cv2.circle(image,center,radius,color,fill)\n",
    "img = cv2.circle(img,(447,63),63,(0,0,255),-1)\n",
    "cv2.imshow(\"Line\",img)\n",
    "cv2.waitKey(0)\n",
    "cv2.destroyAllWindows()"
   ]
  },
  {
   "cell_type": "markdown",
   "id": "d01e6815",
   "metadata": {},
   "source": [
    "### Drawing Ellipse"
   ]
  },
  {
   "cell_type": "code",
   "execution_count": 4,
   "id": "93b4ca71",
   "metadata": {},
   "outputs": [],
   "source": [
    "#\n",
    "img = cv2.ellipse(img,(256,256),(100,50),0,0,180,255,-1)\n",
    "cv2.imshow(\"Line\", img)\n",
    "cv2.waitKey(0)\n",
    "cv2.destroyAllWindows()"
   ]
  },
  {
   "cell_type": "markdown",
   "id": "9b623d79",
   "metadata": {},
   "source": [
    "### Drawing Polygon"
   ]
  },
  {
   "cell_type": "code",
   "execution_count": 5,
   "id": "a0008e22",
   "metadata": {},
   "outputs": [],
   "source": [
    "pts = np.array([[10,5],[20,30],[70,20],[50,10]],np.int32)\n",
    "pts = pts.reshape((-1,1,2))\n",
    "img = cv2.polylines(img,[pts],True,(0,255,255))\n",
    "cv2.imshow(\"Line\",img)\n",
    "cv2.waitKey(0)\n",
    "cv2.destroyAllWindows()"
   ]
  },
  {
   "cell_type": "markdown",
   "id": "ec9e2fd2",
   "metadata": {},
   "source": [
    "### Adding text to image"
   ]
  },
  {
   "cell_type": "code",
   "execution_count": 8,
   "id": "c855c845",
   "metadata": {},
   "outputs": [],
   "source": [
    "# cv2.putText(image,\"Text to Display\",bottom left starting point, Font, Font Size, Color, Thickness)\n",
    "\n",
    "font = cv2.FONT_HERSHEY_SIMPLEX\n",
    "cv2.putText(img,\"OpenCV\",(10,500),font,4,(255,255,255),2,cv2.LINE_AA)\n",
    "cv2.imshow(\"Line\",img)\n",
    "cv2.waitKey(0)\n",
    "cv2.destroyAllWindows()"
   ]
  },
  {
   "cell_type": "markdown",
   "id": "97471e73",
   "metadata": {},
   "source": [
    "### Properties of image\n"
   ]
  },
  {
   "cell_type": "code",
   "execution_count": 10,
   "id": "23f38d5a",
   "metadata": {},
   "outputs": [
    {
     "name": "stdout",
     "output_type": "stream",
     "text": [
      "(638, 1141, 3)\n"
     ]
    }
   ],
   "source": [
    "import cv2\n",
    "import numpy as np\n",
    "\n",
    "# Loading an color image\n",
    "image = cv2.imread(\"img/beach.jpg\")\n",
    "print(image.shape)"
   ]
  },
  {
   "cell_type": "markdown",
   "id": "a229ec5f",
   "metadata": {},
   "source": [
    "### Total Pixels"
   ]
  },
  {
   "cell_type": "code",
   "execution_count": 11,
   "id": "07f4be1e",
   "metadata": {},
   "outputs": [
    {
     "name": "stdout",
     "output_type": "stream",
     "text": [
      "2183874\n"
     ]
    }
   ],
   "source": [
    "print(image.size)"
   ]
  },
  {
   "cell_type": "markdown",
   "id": "18507763",
   "metadata": {},
   "source": [
    "### Datatype"
   ]
  },
  {
   "cell_type": "code",
   "execution_count": 12,
   "id": "103fdf69",
   "metadata": {},
   "outputs": [
    {
     "name": "stdout",
     "output_type": "stream",
     "text": [
      "uint8\n"
     ]
    }
   ],
   "source": [
    "print(image.dtype)"
   ]
  },
  {
   "cell_type": "markdown",
   "id": "59e2e61d",
   "metadata": {},
   "source": [
    "### Image Addition"
   ]
  },
  {
   "cell_type": "code",
   "execution_count": 13,
   "id": "8254f720",
   "metadata": {
    "scrolled": true
   },
   "outputs": [
    {
     "name": "stdout",
     "output_type": "stream",
     "text": [
      "[[[150 150 150]\n",
      "  [150 150 150]\n",
      "  [150 150 150]\n",
      "  ...\n",
      "  [150 150 150]\n",
      "  [150 150 150]\n",
      "  [150 150 150]]\n",
      "\n",
      " [[150 150 150]\n",
      "  [150 150 150]\n",
      "  [150 150 150]\n",
      "  ...\n",
      "  [150 150 150]\n",
      "  [150 150 150]\n",
      "  [150 150 150]]\n",
      "\n",
      " [[150 150 150]\n",
      "  [150 150 150]\n",
      "  [150 150 150]\n",
      "  ...\n",
      "  [150 150 150]\n",
      "  [150 150 150]\n",
      "  [150 150 150]]\n",
      "\n",
      " ...\n",
      "\n",
      " [[150 150 150]\n",
      "  [150 150 150]\n",
      "  [150 150 150]\n",
      "  ...\n",
      "  [150 150 150]\n",
      "  [150 150 150]\n",
      "  [150 150 150]]\n",
      "\n",
      " [[150 150 150]\n",
      "  [150 150 150]\n",
      "  [150 150 150]\n",
      "  ...\n",
      "  [150 150 150]\n",
      "  [150 150 150]\n",
      "  [150 150 150]]\n",
      "\n",
      " [[150 150 150]\n",
      "  [150 150 150]\n",
      "  [150 150 150]\n",
      "  ...\n",
      "  [150 150 150]\n",
      "  [150 150 150]\n",
      "  [150 150 150]]]\n"
     ]
    }
   ],
   "source": [
    "import cv2\n",
    "import numpy as np\n",
    "# Create a matrix of ones, then multiply it by a scaler of 150 \n",
    "# This gives a matrix with same dimesions of our image with all values being 150\n",
    "image = cv2.imread(\"img/beach.jpg\")\n",
    "M = np.ones(image.shape,dtype=\"uint8\")*150\n",
    "print(M)\n",
    "\n",
    "# We use this to add this matrix M, to our image\n",
    "# Notice the increase in brightness\n",
    "added = cv2.add(image,M)\n",
    "cv2.imshow(\"Added\",added)\n",
    "cv2.waitKey(0)\n",
    "\n",
    "# Likewise we can also substract\n",
    "# Notice the decrease in brightness\n",
    "subtracted = cv2.subtract(image,M)\n",
    "cv2.imshow(\"subtracted\",subtracted)\n",
    "\n",
    "cv2.waitKey(0)\n",
    "cv2.destroyAllWindows()\n",
    "\n"
   ]
  },
  {
   "cell_type": "markdown",
   "id": "1e9b524c",
   "metadata": {},
   "source": [
    "### Image Blending"
   ]
  },
  {
   "cell_type": "code",
   "execution_count": 22,
   "id": "dbd0ed2c",
   "metadata": {},
   "outputs": [],
   "source": [
    "img1 = cv2.imread('img/hd5.jpg')\n",
    "img2 = cv2.imread('img/hd2.jpg')\n",
    "\n",
    "blend = cv2.addWeighted(img1,0.7,img2,0.3,0)\n",
    "\n",
    "cv2.imshow('Blended',blend)\n",
    "cv2.waitKey(0)\n",
    "cv2.destroyAllWindows()"
   ]
  },
  {
   "cell_type": "code",
   "execution_count": 23,
   "id": "2bb122be",
   "metadata": {},
   "outputs": [
    {
     "data": {
      "text/plain": [
       "((720, 1280, 3), (720, 1280, 3))"
      ]
     },
     "execution_count": 23,
     "metadata": {},
     "output_type": "execute_result"
    }
   ],
   "source": [
    "img1.shape,img2.shape"
   ]
  },
  {
   "cell_type": "markdown",
   "id": "78fc76ba",
   "metadata": {},
   "source": [
    "### Bitwise Operations"
   ]
  },
  {
   "cell_type": "code",
   "execution_count": 37,
   "id": "d1df525f",
   "metadata": {
    "scrolled": true
   },
   "outputs": [],
   "source": [
    "img1 = cv2.imread(\"img/hd5.jpg\")\n",
    "img2 = cv2.imread(\"img/hot.png\")\n",
    "\n",
    "# I want to put logo on top-left corner, so I create a ROI\n",
    "rows,cols,channels = img2.shape\n",
    "roi = img1[0:rows,0:cols]\n",
    "\n",
    "# Now create a mask of logo and create its inverse mask also\n",
    "img2gray = cv2.cvtColor(img2,cv2.COLOR_BGR2GRAY)\n",
    "ret, mask = cv2.threshold(img2gray,10,255,cv2.THRESH_BINARY)\n",
    "mask_inv = cv2.bitwise_not(mask)\n",
    "\n",
    "# now black-out the area of logo in ROI\n",
    "img1_bg = cv2.bitwise_and(roi,roi,mask=mask_inv)\n",
    "\n",
    "# Take only region of logo from logo image\n",
    "img2_fg = cv2.bitwise_and(img2,img2,mask=mask)\n",
    "\n",
    "# put logo in ROI and modify the main image \n",
    "dst = cv2.add(img1_bg,img2_fg)\n",
    "img1[0:rows,0:cols] = dst\n",
    "\n",
    "cv2.imshow(\"res\",img1)\n",
    "cv2.waitKey(0)\n",
    "cv2.destroyAllWindows()"
   ]
  }
 ],
 "metadata": {
  "kernelspec": {
   "display_name": "Python 3 (ipykernel)",
   "language": "python",
   "name": "python3"
  },
  "language_info": {
   "codemirror_mode": {
    "name": "ipython",
    "version": 3
   },
   "file_extension": ".py",
   "mimetype": "text/x-python",
   "name": "python",
   "nbconvert_exporter": "python",
   "pygments_lexer": "ipython3",
   "version": "3.7.0"
  }
 },
 "nbformat": 4,
 "nbformat_minor": 5
}
